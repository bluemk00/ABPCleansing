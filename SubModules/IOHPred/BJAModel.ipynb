{
 "cells": [
  {
   "cell_type": "code",
   "execution_count": 6,
   "id": "9c2d5d15-1b6c-49e0-bc9e-a894e35a5000",
   "metadata": {},
   "outputs": [],
   "source": [
    "import numpy as np\n",
    "\n",
    "def generate_toy_dataset(input_shape, num_samples=1000):\n",
    "    # Generate random data\n",
    "    X = np.random.randn(num_samples, *input_shape)\n",
    "    # Generate binary labels\n",
    "    y = np.random.randint(0, 2, (num_samples, 2))\n",
    "    return X, y\n",
    "\n",
    "# Using the previously defined input_shape\n",
    "input_shape = (6000, 1) # Assuming the input shape is (3000, 4)\n",
    "X, y = generate_toy_dataset(input_shape)"
   ]
  },
  {
   "cell_type": "code",
   "execution_count": null,
   "id": "d753c221-16cf-4e89-a896-09d7c9b9bace",
   "metadata": {},
   "outputs": [],
   "source": [
    "X"
   ]
  },
  {
   "cell_type": "code",
   "execution_count": 8,
   "id": "b1d437a4-ca5f-4880-9a38-3c47b8036a40",
   "metadata": {},
   "outputs": [
    {
     "data": {
      "text/plain": [
       "(1000, 2)"
      ]
     },
     "execution_count": 8,
     "metadata": {},
     "output_type": "execute_result"
    }
   ],
   "source": [
    "y.shape"
   ]
  },
  {
   "cell_type": "code",
   "execution_count": 10,
   "id": "fb2a4499-cd51-4eab-bef7-40a7cfc41921",
   "metadata": {},
   "outputs": [
    {
     "name": "stdout",
     "output_type": "stream",
     "text": [
      "Epoch 1/10\n",
      "2/2 [==============================] - 12s 330ms/step - loss: 1.0755 - accuracy: 0.5700\n",
      "Epoch 2/10\n",
      "2/2 [==============================] - 1s 342ms/step - loss: 0.9757 - accuracy: 0.3560\n",
      "Epoch 3/10\n",
      "2/2 [==============================] - 1s 340ms/step - loss: 0.8581 - accuracy: 0.3167\n",
      "Epoch 4/10\n",
      "2/2 [==============================] - 1s 337ms/step - loss: 0.7656 - accuracy: 0.3160\n",
      "Epoch 5/10\n",
      "2/2 [==============================] - 1s 344ms/step - loss: 0.7615 - accuracy: 0.2760\n",
      "Epoch 6/10\n",
      "2/2 [==============================] - 1s 336ms/step - loss: 0.7122 - accuracy: 0.2733\n",
      "Epoch 7/10\n",
      "2/2 [==============================] - 1s 336ms/step - loss: 0.7105 - accuracy: 0.2540\n",
      "Epoch 8/10\n",
      "2/2 [==============================] - 1s 330ms/step - loss: 0.6942 - accuracy: 0.2580\n",
      "Epoch 9/10\n",
      "2/2 [==============================] - 1s 323ms/step - loss: 0.6960 - accuracy: 0.2593\n",
      "Epoch 10/10\n",
      "2/2 [==============================] - 1s 337ms/step - loss: 0.6932 - accuracy: 0.2540\n"
     ]
    },
    {
     "data": {
      "text/plain": [
       "<tensorflow.python.keras.callbacks.History at 0x21cc8a6a190>"
      ]
     },
     "execution_count": 10,
     "metadata": {},
     "output_type": "execute_result"
    }
   ],
   "source": [
    "import tensorflow as tf\n",
    "from tensorflow.keras import layers, models\n",
    "\n",
    "def create_functional_model(input_shape):\n",
    "    # Input Layer\n",
    "    inputs = tf.keras.Input(shape=input_shape)\n",
    "\n",
    "    # Convolutional Layers\n",
    "    conv_params = [(64, 10), (128, 10), (128, 10), (128, 10), (64, 10), (64, 10), (32, 10)]\n",
    "    x = inputs\n",
    "    for filters, kernel_size in conv_params:\n",
    "        x = layers.Conv1D(filters, kernel_size, activation='relu')(x)\n",
    "        #x = layers.BatchNormalization()(x)\n",
    "        x = layers.MaxPooling1D(2)(x)\n",
    "        x = layers.Dropout(0.1)(x)\n",
    "    \n",
    "    # Fully Connected Layers\n",
    "    x = layers.Flatten()(x)\n",
    "    x = layers.Dense(2, activation='relu')(x)\n",
    "    x = layers.Dropout(0.1)(x)\n",
    "    outputs = layers.Dense(2, activation='sigmoid')(x) # Output layer\n",
    "    \n",
    "    # Create Model\n",
    "    model = models.Model(inputs=inputs, outputs=outputs)\n",
    "    return model\n",
    "\n",
    "# Example usage:\n",
    "functional_model = create_functional_model(input_shape)\n",
    "functional_model.compile(optimizer='adam', loss='binary_crossentropy', metrics=['accuracy'])\n",
    "\n",
    "functional_model.fit(X, y, batch_size=500, epochs=10, verbose=1)\n",
    "\n",
    "# To display the model structure, you would use:\n",
    "# functional_model.summary()\n"
   ]
  },
  {
   "cell_type": "code",
   "execution_count": null,
   "id": "be52ba82-0da2-40f5-9e67-cae7248e0089",
   "metadata": {},
   "outputs": [],
   "source": []
  }
 ],
 "metadata": {
  "kernelspec": {
   "display_name": "Python 3 (ipykernel)",
   "language": "python",
   "name": "python3"
  },
  "language_info": {
   "codemirror_mode": {
    "name": "ipython",
    "version": 3
   },
   "file_extension": ".py",
   "mimetype": "text/x-python",
   "name": "python",
   "nbconvert_exporter": "python",
   "pygments_lexer": "ipython3",
   "version": "3.9.18"
  }
 },
 "nbformat": 4,
 "nbformat_minor": 5
}
