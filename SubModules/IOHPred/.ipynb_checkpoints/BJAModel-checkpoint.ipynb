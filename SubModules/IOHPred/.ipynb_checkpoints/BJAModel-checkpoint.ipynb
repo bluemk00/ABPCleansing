{
 "cells": [
  {
   "cell_type": "code",
   "execution_count": 3,
   "id": "9c2d5d15-1b6c-49e0-bc9e-a894e35a5000",
   "metadata": {},
   "outputs": [],
   "source": [
    "import numpy as np\n",
    "\n",
    "def generate_toy_dataset(input_shape, num_samples=1000):\n",
    "    # Generate random data\n",
    "    X = np.random.randn(num_samples, *input_shape)\n",
    "    # Generate binary labels\n",
    "    y = np.random.randint(0, 2, (num_samples, 2))\n",
    "    return X, y\n",
    "\n",
    "# Using the previously defined input_shape\n",
    "input_shape = (3000, 1) # Assuming the input shape is (3000, 4)\n",
    "X, y = generate_toy_dataset(input_shape)"
   ]
  },
  {
   "cell_type": "code",
   "execution_count": 6,
   "id": "fb2a4499-cd51-4eab-bef7-40a7cfc41921",
   "metadata": {},
   "outputs": [
    {
     "name": "stdout",
     "output_type": "stream",
     "text": [
      "Epoch 1/10\n",
      "1/1 [==============================] - 2s 2s/step - loss: 1.0046 - accuracy: 0.6510\n",
      "Epoch 2/10\n",
      "1/1 [==============================] - 2s 2s/step - loss: 0.9695 - accuracy: 0.3270\n",
      "Epoch 3/10\n",
      "1/1 [==============================] - 1s 1s/step - loss: 0.9233 - accuracy: 0.6900\n",
      "Epoch 4/10\n",
      "1/1 [==============================] - 1s 1s/step - loss: 0.9290 - accuracy: 0.6660\n",
      "Epoch 5/10\n",
      "1/1 [==============================] - 1s 1s/step - loss: 0.8687 - accuracy: 0.6730\n",
      "Epoch 6/10\n",
      "1/1 [==============================] - 1s 1s/step - loss: 0.8767 - accuracy: 0.6650\n",
      "Epoch 7/10\n",
      "1/1 [==============================] - 1s 1s/step - loss: 0.8027 - accuracy: 0.6860\n",
      "Epoch 8/10\n",
      "1/1 [==============================] - 1s 1s/step - loss: 0.8416 - accuracy: 0.6940\n",
      "Epoch 9/10\n",
      "1/1 [==============================] - 1s 1s/step - loss: 0.8302 - accuracy: 0.6920\n",
      "Epoch 10/10\n",
      "1/1 [==============================] - 1s 1s/step - loss: 0.7886 - accuracy: 0.6930\n"
     ]
    },
    {
     "data": {
      "text/plain": [
       "<keras.callbacks.History at 0x23d90839940>"
      ]
     },
     "execution_count": 6,
     "metadata": {},
     "output_type": "execute_result"
    }
   ],
   "source": [
    "import tensorflow as tf\n",
    "from tensorflow.keras import layers, models\n",
    "\n",
    "def create_functional_model(input_shape):\n",
    "    # Input Layer\n",
    "    inputs = tf.keras.Input(shape=input_shape)\n",
    "\n",
    "    # Convolutional Layers\n",
    "    conv_params = [(64, 10), (128, 10), (128, 10), (128, 10), (64, 10), (64, 10), (32, 10)]\n",
    "    x = inputs\n",
    "    for filters, kernel_size in conv_params:\n",
    "        x = layers.Conv1D(filters, kernel_size, activation='relu')(x)\n",
    "        x = layers.BatchNormalization()(x)\n",
    "        x = layers.MaxPooling1D(2)(x)\n",
    "        x = layers.Dropout(0.6)(x)\n",
    "    \n",
    "    # Fully Connected Layers\n",
    "    x = layers.Flatten()(x)\n",
    "    x = layers.Dense(2, activation='relu')(x)\n",
    "    x = layers.Dropout(0.6)(x)\n",
    "    outputs = layers.Dense(2, activation='sigmoid')(x) # Output layer\n",
    "    \n",
    "    # Create Model\n",
    "    model = models.Model(inputs=inputs, outputs=outputs)\n",
    "    return model\n",
    "\n",
    "# Example usage:\n",
    "functional_model = create_functional_model(input_shape)\n",
    "functional_model.compile(optimizer='adam', loss='binary_crossentropy', metrics=['accuracy'])\n",
    "\n",
    "functional_model.fit(X, y, batch_size=1000, epochs=10, verbose=1)\n",
    "\n",
    "# To display the model structure, you would use:\n",
    "# functional_model.summary()\n"
   ]
  }
 ],
 "metadata": {
  "kernelspec": {
   "display_name": "Python 3 (ipykernel)",
   "language": "python",
   "name": "python3"
  },
  "language_info": {
   "codemirror_mode": {
    "name": "ipython",
    "version": 3
   },
   "file_extension": ".py",
   "mimetype": "text/x-python",
   "name": "python",
   "nbconvert_exporter": "python",
   "pygments_lexer": "ipython3",
   "version": "3.9.18"
  }
 },
 "nbformat": 4,
 "nbformat_minor": 5
}
