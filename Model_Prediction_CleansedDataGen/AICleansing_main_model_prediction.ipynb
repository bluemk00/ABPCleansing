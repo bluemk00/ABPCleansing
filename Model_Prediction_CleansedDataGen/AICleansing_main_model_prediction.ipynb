{
 "cells": [
  {
   "cell_type": "markdown",
   "id": "55ae2eae",
   "metadata": {},
   "source": [
    "# Loading main models\n",
    "- 3 Ablation studies"
   ]
  },
  {
   "cell_type": "code",
   "execution_count": null,
   "id": "4094c82f",
   "metadata": {
    "tags": []
   },
   "outputs": [],
   "source": [
    "import numpy as np\n",
    "import os\n",
    "from IPython.display import clear_output\n",
    "import tensorflow as tf\n",
    "from tensorflow.keras.models import Model, load_model\n",
    "from tensorflow.keras.layers import Input, Dropout, Dense, LayerNormalization, Permute, Reshape, GaussianNoise, LSTM, Bidirectional\n",
    "\n",
    "# os.environ[\"CUDA_DEVICE_ORDER\"]=\"PCI_BUS_ID\"\n",
    "# os.environ[\"CUDA_VISIBLE_DEVICES\"]=\"1\"\n",
    "\n",
    "config = tf.compat.v1.ConfigProto()\n",
    "config.gpu_options.allow_growth = True\n",
    "config.gpu_options.per_process_gpu_memory_fraction = 0.98\n",
    "tf.compat.v1.keras.backend.set_session(tf.compat.v1.Session(config=config))\n",
    "\n",
    "include_init25s = True\n",
    "# 처음 25초를 outcome에 포함시켜서 input과 같은 길이를 얻으려면 True\n",
    "# 처음 25초를 outcome에서 제외하려면 False"
   ]
  },
  {
   "cell_type": "code",
   "execution_count": null,
   "id": "5b88298a",
   "metadata": {
    "tags": []
   },
   "outputs": [],
   "source": [
    "FrameSize = 50\n",
    "OverlapSize = 10 # actually, frame interval\n",
    "\n",
    "InpL = Input(shape=(3000,))\n",
    "\n",
    "InpFrame = tf.signal.frame(InpL, FrameSize, OverlapSize)\n",
    "InpFrameNoise = GaussianNoise(0.0)(InpFrame)\n",
    "\n",
    "Encoder = Dense(50, activation='relu', name = 'Encoder1')(InpFrameNoise)\n",
    "Encoder = Dropout(0.0)(Encoder, training=True)\n",
    "\n",
    "Encoder = Bidirectional(LSTM(25, return_sequences=True))(Encoder)\n",
    "Att_front = Bidirectional(LSTM(5, return_sequences=True))(Encoder)\n",
    "Att_front = LayerNormalization(axis=(1), epsilon=0.001)(Att_front)\n",
    "Att_front = Permute((2,1))(Att_front)\n",
    "Att_front = Dropout(0.0)(Att_front, training=True)\n",
    "Att_front = Dense(InpFrame.shape[1],activation='softmax')(Att_front)\n",
    "Att_front = Permute((2,1), name='Att_front')(Att_front)\n",
    "\n",
    "Context = InpFrameNoise[:,:,None] * Att_front[:,:,:,None]\n",
    "Context = tf.reduce_sum(Context, axis=(1), name = 'Context')\n",
    "\n",
    "Decoder = Bidirectional(LSTM(25, return_sequences=True))(Context)\n",
    "Decoder = LayerNormalization(axis=(1,2), epsilon=0.001)(Decoder)\n",
    "\n",
    "Att_back = Bidirectional(LSTM(250, return_sequences=False))(InpFrame)\n",
    "Att_back = Reshape((10, 50))(Att_back)\n",
    "Att_back = LayerNormalization(axis=(1,2), epsilon=0.001)(Att_back)\n",
    "Att_back = Bidirectional(LSTM(25, return_sequences=True))(Att_back)\n",
    "Att_back = Dropout(0.0)(Att_back, training=True)\n",
    "Att_back = Dense(50,activation='tanh')(Att_back)\n",
    "\n",
    "Scaling = Decoder + Att_back\n",
    "Scaling = Bidirectional(LSTM(25, return_sequences=True, name = 'Scaling'))(Scaling)\n",
    "\n",
    "ValDecoder = Context + Scaling\n",
    "ABPOut= Reshape((-1,),name='ABPOut')(ValDecoder)\n",
    "ABPOut_diff = Reshape((-1,),name='ABPOut_diff')(ABPOut[:,1:]-ABPOut[:,:-1])\n",
    "\n",
    "Casted = tf.cast(ABPOut, tf.complex64) \n",
    "fft = tf.signal.fft(Casted)[:, :(Casted.shape[-1]//2+1)]\n",
    "AmplitudeOut = tf.abs(fft[:,1:])*(1/(fft.shape[-1])) \n",
    "AmplitudeOut= Reshape((-1,),name='AmplitudeOut')(AmplitudeOut)\n",
    "\n",
    "AE_ABP_ABPd = Model(InpL, (ABPOut, ABPOut_diff))\n",
    "AE_ABP_ABPd_AMP = Model(InpL, (ABPOut, ABPOut_diff, AmplitudeOut))\n",
    "AE_ABP_AMP = Model(InpL, (ABPOut, AmplitudeOut))"
   ]
  },
  {
   "cell_type": "code",
   "execution_count": null,
   "id": "5aad8fb2",
   "metadata": {},
   "outputs": [],
   "source": [
    "model_path = './model/'\n",
    "\n",
    "AE_ABP_ABPd.load_weights(model_path+'AE_ABP_ABPd.hdf5')\n",
    "AE_ABP_ABPd_AMP.load_weights(model_path+'AE_ABP_ABPd_AMP.hdf5')\n",
    "AE_ABP_AMP.load_weights(model_path+'AE_ABP_AMP.hdf5')"
   ]
  },
  {
   "cell_type": "markdown",
   "id": "8329162d",
   "metadata": {},
   "source": [
    "# Loading data\n",
    "- For downstream task"
   ]
  },
  {
   "cell_type": "code",
   "execution_count": null,
   "id": "2179e4e0",
   "metadata": {},
   "outputs": [],
   "source": [
    "# downstream task의 input data\n",
    "file_path = './inputdata/'\n",
    "filename = 'abp_input_sample.npy'\n",
    "abp_input = np.load(file_path+filename) # (length, time)의 shape 가정"
   ]
  },
  {
   "cell_type": "markdown",
   "id": "7d77c841",
   "metadata": {},
   "source": [
    "# Generating cleansed data\n",
    "- Outcome of cleansing model"
   ]
  },
  {
   "cell_type": "code",
   "execution_count": null,
   "id": "e0f490f9",
   "metadata": {},
   "outputs": [],
   "source": [
    "batch = 500"
   ]
  },
  {
   "cell_type": "markdown",
   "id": "fd1afc3c",
   "metadata": {},
   "source": [
    "### AE_ABP_ABPd"
   ]
  },
  {
   "cell_type": "code",
   "execution_count": null,
   "id": "f691f718",
   "metadata": {},
   "outputs": [],
   "source": [
    "# batch 단위로 prediction\n",
    "for n in range(abp_input.shape[0]//batch):\n",
    "    \n",
    "    # 0~30초를 입력으로 25~30초 prediction\n",
    "    Pred = AE_ABP_ABPd.predict(abp_input[batch*n:batch*(n+1),:3000])[0]\n",
    "    \n",
    "    # ABP input의 25~30초를 Pred로 대체\n",
    "    x = np.concatenate((abp_input[batch*n:batch*(n+1),:2500], Pred), axis=1)\n",
    "    \n",
    "    if include_init25s == True:\n",
    "        # ABP input의 처음 25초 포함\n",
    "        outsig_entire_time = x.copy()\n",
    "    else:\n",
    "        # ABP input의 처음 25초 제외\n",
    "        outsig_entire_time = Pred.copy()\n",
    "    \n",
    "    # Sliding prediction, ABP input 5초씩 새로 결합하여 prediction\n",
    "    for i in range(1,(abp_input.shape[1]-2500)//500):\n",
    "        \n",
    "        # x의 후반 25초에 ABP input 5초를 새로 결합\n",
    "        x_h = np.concatenate((x[:,500:], abp_input[batch*n:batch*(n+1),3000+500*(i-1):3000+500*i]), axis=1)\n",
    "        \n",
    "        # 만약 nan이 있다면 0으로 대체\n",
    "        if np.sum(np.isnan(x_h)) > 0:\n",
    "            x_h = np.where(np.isnan(x_h), 0.0, x_h)\n",
    "        \n",
    "        # x_h를 입력으로 후반부 5초 prediction\n",
    "        Pred = AE_ABP_ABPd.predict(x_h)[0]\n",
    "        \n",
    "        # Pred로 기존 데이터 대체\n",
    "        x = np.concatenate((x_h[:,:2500], Pred), axis=1)\n",
    "        \n",
    "        # 새로운 Pred를 계속해서 결합\n",
    "        outsig_entire_time = np.concatenate((outsig_entire_time, Pred), axis=1)\n",
    "        \n",
    "    # batch 단위로 결합\n",
    "    if n == 0:\n",
    "        outsig_entire_data_ABP_ABPd = outsig_entire_time.copy()\n",
    "    else:\n",
    "        outsig_entire_data_ABP_ABPd = np.concatenate((outsig_entire_data_ABP_ABPd, outsig_entire_time), axis=0)\n",
    "        \n",
    "\n",
    "    print(f'{outsig_entire_data_ABP_ABPd.shape[0]} / {abp_input.shape[0]}')\n",
    "    clear_output(wait=True)\n",
    "print(f'{outsig_entire_data_ABP_ABPd.shape[0]} / {abp_input.shape[0]} -- AE_ABP_ABPd prediction complete')"
   ]
  },
  {
   "cell_type": "markdown",
   "id": "04c36402",
   "metadata": {},
   "source": [
    "### AE_ABP_AMP_ABPd"
   ]
  },
  {
   "cell_type": "code",
   "execution_count": null,
   "id": "48ca8dc8",
   "metadata": {},
   "outputs": [],
   "source": [
    "# batch 단위로 prediction\n",
    "for n in range(abp_input.shape[0]//batch):\n",
    "    \n",
    "    # 0~30초를 입력으로 25~30초 prediction\n",
    "    Pred = AE_ABP_ABPd_AMP.predict(abp_input[batch*n:batch*(n+1),:3000])[0]\n",
    "    \n",
    "    # ABP input의 25~30초를 Pred로 대체\n",
    "    x = np.concatenate((abp_input[batch*n:batch*(n+1),:2500], Pred), axis=1)\n",
    "    \n",
    "    if include_init25s == True:\n",
    "        # ABP input의 처음 25초 포함\n",
    "        outsig_entire_time = x.copy()\n",
    "    else:\n",
    "        # ABP input의 처음 25초 제외\n",
    "        outsig_entire_time = Pred.copy()\n",
    "    \n",
    "    # Sliding prediction, ABP input 5초씩 새로 결합하여 prediction\n",
    "    for i in range(1,(abp_input.shape[1]-2500)//500):\n",
    "        \n",
    "        # x의 후반 25초에 ABP input 5초를 새로 결합\n",
    "        x_h = np.concatenate((x[:,500:], abp_input[batch*n:batch*(n+1),3000+500*(i-1):3000+500*i]), axis=1)\n",
    "        \n",
    "        # 만약 nan이 있다면 0으로 대체\n",
    "        if np.sum(np.isnan(x_h)) > 0:\n",
    "            x_h = np.where(np.isnan(x_h), 0.0, x_h)\n",
    "        \n",
    "        # x_h를 입력으로 후반부 5초 prediction\n",
    "        Pred = AE_ABP_ABPd_AMP.predict(x_h)[0]\n",
    "        \n",
    "        # Pred로 기존 데이터 대체\n",
    "        x = np.concatenate((x_h[:,:2500], Pred), axis=1)\n",
    "        \n",
    "        # 새로운 Pred를 계속해서 결합\n",
    "        outsig_entire_time = np.concatenate((outsig_entire_time, Pred), axis=1)\n",
    "        \n",
    "    # batch 단위로 결합\n",
    "    if n == 0:\n",
    "        outsig_entire_data_ABP_ABPd_AMP = outsig_entire_time.copy()\n",
    "    else:\n",
    "        outsig_entire_data_ABP_ABPd_AMP = np.concatenate((outsig_entire_data_ABP_ABPd_AMP, outsig_entire_time), axis=0)\n",
    "    \n",
    "    print(f'{outsig_entire_data_ABP_ABPd_AMP.shape[0]} / {abp_input.shape[0]}')\n",
    "    clear_output(wait=True)\n",
    "print(f'{outsig_entire_data_ABP_ABPd_AMP.shape[0]} / {abp_input.shape[0]} -- AE_ABP_ABPd_AMP prediction complete')"
   ]
  },
  {
   "cell_type": "markdown",
   "id": "06d4407c",
   "metadata": {},
   "source": [
    "### AE_ABP_AMP"
   ]
  },
  {
   "cell_type": "code",
   "execution_count": null,
   "id": "53a4e0a9",
   "metadata": {},
   "outputs": [],
   "source": [
    "# batch 단위로 prediction\n",
    "for n in range(abp_input.shape[0]//batch):\n",
    "    \n",
    "    # 0~30초를 입력으로 25~30초 prediction\n",
    "    Pred = AE_ABP_AMP.predict(abp_input[batch*n:batch*(n+1),:3000])[0]\n",
    "    \n",
    "    # ABP input의 25~30초를 Pred로 대체\n",
    "    x = np.concatenate((abp_input[batch*n:batch*(n+1),:2500], Pred), axis=1)\n",
    "    \n",
    "    if include_init25s == True:\n",
    "        # ABP input의 처음 25초 포함\n",
    "        outsig_entire_time = x.copy()\n",
    "    else:\n",
    "        # ABP input의 처음 25초 제외\n",
    "        outsig_entire_time = Pred.copy()\n",
    "    \n",
    "    # Sliding prediction, ABP input 5초씩 새로 결합하여 prediction\n",
    "    for i in range(1,(abp_input.shape[1]-2500)//500):\n",
    "        \n",
    "        # x의 후반 25초에 ABP input 5초를 새로 결합\n",
    "        x_h = np.concatenate((x[:,500:], abp_input[batch*n:batch*(n+1),3000+500*(i-1):3000+500*i]), axis=1)\n",
    "        \n",
    "        # 만약 nan이 있다면 0으로 대체\n",
    "        if np.sum(np.isnan(x_h)) > 0:\n",
    "            x_h = np.where(np.isnan(x_h), 0.0, x_h)\n",
    "        \n",
    "        # x_h를 입력으로 후반부 5초 prediction\n",
    "        Pred = AE_ABP_AMP.predict(x_h)[0]\n",
    "        \n",
    "        # Pred로 기존 데이터 대체\n",
    "        x = np.concatenate((x_h[:,:2500], Pred), axis=1)\n",
    "        \n",
    "        # 새로운 Pred를 계속해서 결합\n",
    "        outsig_entire_time = np.concatenate((outsig_entire_time, Pred), axis=1)\n",
    "        \n",
    "    # batch 단위로 결합\n",
    "    if n == 0:\n",
    "        outsig_entire_data_ABP_AMP = outsig_entire_time.copy()\n",
    "    else:\n",
    "        outsig_entire_data_ABP_AMP = np.concatenate((outsig_entire_data_ABP_AMP, outsig_entire_time), axis=0)\n",
    "    \n",
    "\n",
    "    print(f'{outsig_entire_data_ABP_AMP.shape[0]} / {abp_input.shape[0]}')\n",
    "    clear_output(wait=True)\n",
    "print(f'{outsig_entire_data_ABP_AMP.shape[0]} / {abp_input.shape[0]} -- AE_ABP_AMP prediction complete')"
   ]
  },
  {
   "cell_type": "code",
   "execution_count": null,
   "id": "3a4c76f8",
   "metadata": {},
   "outputs": [],
   "source": []
  }
 ],
 "metadata": {
  "kernelspec": {
   "display_name": "Python 3 (ipykernel)",
   "language": "python",
   "name": "python3"
  },
  "language_info": {
   "codemirror_mode": {
    "name": "ipython",
    "version": 3
   },
   "file_extension": ".py",
   "mimetype": "text/x-python",
   "name": "python",
   "nbconvert_exporter": "python",
   "pygments_lexer": "ipython3",
   "version": "3.8.13"
  }
 },
 "nbformat": 4,
 "nbformat_minor": 5
}
