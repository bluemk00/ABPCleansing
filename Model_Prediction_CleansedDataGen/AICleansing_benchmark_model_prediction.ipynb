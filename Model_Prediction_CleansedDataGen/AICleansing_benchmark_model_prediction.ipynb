{
 "cells": [
  {
   "cell_type": "code",
   "execution_count": null,
   "id": "4094c82f",
   "metadata": {
    "tags": []
   },
   "outputs": [],
   "source": [
    "import sys\n",
    "import os\n",
    "from IPython.display import clear_output\n",
    "\n",
    "import numpy as np\n",
    "import tensorflow as tf\n",
    "from tensorflow.keras.layers import Input, Conv1D\n",
    "from tensorflow.keras import Model\n",
    "\n",
    "# os.environ[\"CUDA_DEVICE_ORDER\"]=\"PCI_BUS_ID\"\n",
    "# os.environ[\"CUDA_VISIBLE_DEVICES\"]=\"0\"\n",
    "\n",
    "config = tf.compat.v1.ConfigProto()\n",
    "config.gpu_options.allow_growth = True\n",
    "config.gpu_options.per_process_gpu_memory_fraction = 0.98\n",
    "tf.compat.v1.keras.backend.set_session(tf.compat.v1.Session(config=config))     \n",
    "tf.compat.v1.enable_eager_execution()\n",
    "\n",
    "import warnings\n",
    "warnings.simplefilter(action='ignore', category=FutureWarning)\n",
    "\n",
    "sys.path.append(\"./lib/\")\n",
    "from models_varia_mse_y import *\n",
    "from BDC_utils import *\n",
    "from SNM_GRUD import *\n",
    "from SNM_Interpolate import *\n",
    "from SNM_SupNotMIWAE import *\n",
    "\n",
    "batch = 500\n",
    "model_path = './model/'\n",
    "\n",
    "include_init25s = True\n",
    "# 처음 25초를 outcome에 포함시켜서 input과 같은 길이를 얻으려면 True\n",
    "# 처음 25초를 outcome에서 제외하려면 False"
   ]
  },
  {
   "cell_type": "markdown",
   "id": "a15b9642",
   "metadata": {},
   "source": [
    "# Loading input data"
   ]
  },
  {
   "cell_type": "code",
   "execution_count": null,
   "id": "aa0c65e5",
   "metadata": {},
   "outputs": [],
   "source": [
    "# downstream task의 input data\n",
    "file_path = './inputdata/'\n",
    "filename = 'abp_input_sample.npy'\n",
    "abp_input = np.load(file_path+filename) # (length, time)의 shape 가정"
   ]
  },
  {
   "cell_type": "markdown",
   "id": "55ae2eae",
   "metadata": {},
   "source": [
    "# HIVAE"
   ]
  },
  {
   "cell_type": "markdown",
   "id": "6b510765",
   "metadata": {},
   "source": [
    "### Loading model"
   ]
  },
  {
   "cell_type": "code",
   "execution_count": null,
   "id": "b1379131",
   "metadata": {},
   "outputs": [],
   "source": [
    "encoder = JointEncoderGRU\n",
    "decoder = GaussianDecoder\n",
    "\n",
    "HIVAEModel = HI_VAE(latent_dim=10, data_dim=50, time_length=60,\n",
    "                    encoder_sizes=[100, 80, 60], encoder=encoder,\n",
    "                    decoder_sizes=[60,80,100], decoder=decoder,\n",
    "                    M=1, K=1, beta=0.1)\n",
    "_ = tf.compat.v1.train.get_or_create_global_step()\n",
    "trainable_vars = HIVAEModel.get_trainable_vars()\n",
    "optimizer = tf.compat.v1.train.AdamOptimizer(learning_rate=1e-3)\n",
    "\n",
    "HIVAEModel.encoder.net.load_weights(model_path+'HIVAE_encoder.hdf5')\n",
    "HIVAEModel.decoder.net.load_weights(model_path+'HIVAE_decoder.hdf5')"
   ]
  },
  {
   "cell_type": "markdown",
   "id": "a4915007",
   "metadata": {},
   "source": [
    "### Generating cleansed data"
   ]
  },
  {
   "cell_type": "code",
   "execution_count": null,
   "id": "24783621",
   "metadata": {
    "scrolled": true
   },
   "outputs": [],
   "source": [
    "# frame으로 분할 - (length, time, data_dim=50)의 shape\n",
    "abp_fr = tf.signal.frame(abp_input.astype('float32'), 50, 50).numpy()\n",
    "\n",
    "# batch 단위로 prediction\n",
    "for n in range(abp_fr.shape[0]//batch):\n",
    "    \n",
    "    # 0~30초를 입력으로 0~30초 outcome (참고로 frame은 0.5초 단위)\n",
    "    x = abp_fr[batch*n:batch*(n+1),:60,:]\n",
    "    outcome = HIVAEModel.decode(HIVAEModel.encode(x).mean().numpy()).mean().numpy()\n",
    "    \n",
    "    # ABP input의 25~30초를 outcome의 25~30초로 대체\n",
    "    x = np.concatenate((x[:,:50,:], outcome[:,-10:,:]), axis=1)\n",
    "    \n",
    "    if include_init25s == True:\n",
    "        # ABP input의 처음 25초 포함\n",
    "        outsig_entire_time = outcome.copy()\n",
    "    else:\n",
    "        # ABP input의 처음 25초 제외\n",
    "        outsig_entire_time = outcome[:,-10:,:].copy()\n",
    "\n",
    "    # Sliding prediction, ABP input 5초씩 새로 결합하여 prediction\n",
    "    for i in range(1,(abp_fr.shape[1]-50)//10):\n",
    "        \n",
    "        # x의 후반 25초에 ABP input 5초를 새로 결합\n",
    "        x_h = np.concatenate((x[:,10:,:], abp_fr[batch*n:batch*(n+1),60+10*(i-1):60+10*i,:]), axis=1)\n",
    "        \n",
    "        # 만약 nan이 있다면 0으로 대체\n",
    "        if np.sum(np.isnan(x_h)) > 0:\n",
    "            x_h = np.where(np.isnan(x_h), 0.0, x_h)\n",
    "        \n",
    "        # x_h를 입력으로 outcome\n",
    "        outcome = HIVAEModel.decode(HIVAEModel.encode(x_h).mean().numpy()).mean().numpy()\n",
    "        \n",
    "        # x_h의 후반 5초를 outcome의 후반 5초로 대체\n",
    "        x = np.concatenate((x_h[:,:50,:], outcome[:,-10:,:]), axis=1)\n",
    "        \n",
    "        # 새로운 outcome의 후반 5초를 계속해서 결합\n",
    "        outsig_entire_time = np.concatenate((outsig_entire_time, outcome[:,-10:,:]), axis=1)\n",
    "        \n",
    "    # batch 단위로 reshape 하여 결합\n",
    "    if n == 0:\n",
    "        outsig_entire_data_HIVAE = np.reshape(outsig_entire_time, (outsig_entire_time.shape[0],-1))\n",
    "    else:\n",
    "        outsig_entire_data_HIVAE = np.concatenate((outsig_entire_data_HIVAE, \n",
    "                                                   np.reshape(outsig_entire_time, (outsig_entire_time.shape[0],-1))), \n",
    "                                                  axis=0)\n",
    "        \n",
    "    print(f'{outsig_entire_data_HIVAE.shape[0]} / {abp_input.shape[0]}')\n",
    "    clear_output(wait=True)\n",
    "print(f'{outsig_entire_data_HIVAE.shape[0]} / {abp_input.shape[0]} -- HIVAE prediction complete')"
   ]
  },
  {
   "cell_type": "code",
   "execution_count": null,
   "id": "108fd525",
   "metadata": {},
   "outputs": [],
   "source": []
  },
  {
   "cell_type": "markdown",
   "id": "6347b730",
   "metadata": {},
   "source": [
    "# GPVAE"
   ]
  },
  {
   "cell_type": "markdown",
   "id": "406d1937",
   "metadata": {},
   "source": [
    "### Loading model"
   ]
  },
  {
   "cell_type": "code",
   "execution_count": null,
   "id": "fb731523",
   "metadata": {},
   "outputs": [],
   "source": [
    "encoder = BandedJointEncoderGRU\n",
    "decoder = GaussianDecoder\n",
    "\n",
    "GPVAEModel = GP_VAE(latent_dim=10, data_dim=50, time_length=60,\n",
    "                    encoder_sizes=[100, 80, 60], encoder=encoder,\n",
    "                    decoder_sizes=[60,80,100], decoder=decoder,\n",
    "                    M=1, K=1, beta=0.1)\n",
    "_ = tf.compat.v1.train.get_or_create_global_step()\n",
    "trainable_vars = GPVAEModel.get_trainable_vars()\n",
    "optimizer = tf.compat.v1.train.AdamOptimizer(learning_rate=1e-3)\n",
    "\n",
    "GPVAEModel.encoder.net.load_weights(model_path+'GPVAE_encoder.hdf5')\n",
    "GPVAEModel.decoder.net.load_weights(model_path+'GPVAE_decoder.hdf5')"
   ]
  },
  {
   "cell_type": "markdown",
   "id": "17edc06d",
   "metadata": {},
   "source": [
    "### Generating cleansed data"
   ]
  },
  {
   "cell_type": "code",
   "execution_count": null,
   "id": "29aa2530",
   "metadata": {
    "scrolled": true
   },
   "outputs": [],
   "source": [
    "# frame으로 분할 - (length, time, data_dim=50)의 shape\n",
    "abp_fr = tf.signal.frame(abp_input.astype('float32'), 50, 50).numpy()\n",
    "\n",
    "# batch 단위로 prediction\n",
    "for n in range(abp_fr.shape[0]//batch):\n",
    "    \n",
    "    # 0~30초를 입력으로 0~30초 outcome (참고로 frame은 0.5초 단위)\n",
    "    x = abp_fr[batch*n:batch*(n+1),:60,:]\n",
    "    outcome = GPVAEModel.decode(GPVAEModel.encode(x).mean().numpy()).mean().numpy()\n",
    "    \n",
    "    # ABP input의 25~30초를 outcome의 25~30초로 대체\n",
    "    x = np.concatenate((x[:,:50,:], outcome[:,-10:,:]), axis=1)\n",
    "    \n",
    "    if include_init25s == True:\n",
    "        # ABP input의 처음 25초 포함\n",
    "        outsig_entire_time = outcome.copy()\n",
    "    else:\n",
    "        # ABP input의 처음 25초 제외\n",
    "        outsig_entire_time = outcome[:,-10:,:].copy()\n",
    "\n",
    "    # Sliding prediction, ABP input 5초씩 새로 결합하여 prediction\n",
    "    for i in range(1,(abp_fr.shape[1]-50)//10):\n",
    "        \n",
    "        # x의 후반 25초에 ABP input 5초를 새로 결합\n",
    "        x_h = np.concatenate((x[:,10:,:], abp_fr[batch*n:batch*(n+1),60+10*(i-1):60+10*i,:]), axis=1)\n",
    "        \n",
    "        # 만약 nan이 있다면 0으로 대체\n",
    "        if np.sum(np.isnan(x_h)) > 0:\n",
    "            x_h = np.where(np.isnan(x_h), 0.0, x_h)\n",
    "        \n",
    "        # x_h를 입력으로 outcome\n",
    "        outcome = GPVAEModel.decode(GPVAEModel.encode(x_h).mean().numpy()).mean().numpy()\n",
    "        \n",
    "        # x_h의 후반 5초를 outcome의 후반 5초로 대체\n",
    "        x = np.concatenate((x_h[:,:50,:], outcome[:,-10:,:]), axis=1)\n",
    "        \n",
    "        # 새로운 outcome의 후반 5초를 계속해서 결합\n",
    "        outsig_entire_time = np.concatenate((outsig_entire_time, outcome[:,-10:,:]), axis=1)\n",
    "        \n",
    "    # batch 단위로 reshape 하여 결합\n",
    "    if n == 0:\n",
    "        outsig_entire_data_GPVAE = np.reshape(outsig_entire_time, (outsig_entire_time.shape[0],-1))\n",
    "    else:\n",
    "        outsig_entire_data_GPVAE = np.concatenate((outsig_entire_data_GPVAE, \n",
    "                                                   np.reshape(outsig_entire_time, (outsig_entire_time.shape[0],-1))), \n",
    "                                                  axis=0)\n",
    "        \n",
    "    print(f'{outsig_entire_data_GPVAE.shape[0]} / {abp_input.shape[0]}')\n",
    "    clear_output(wait=True)\n",
    "print(f'{outsig_entire_data_GPVAE.shape[0]} / {abp_input.shape[0]} -- GPVAE prediction complete')"
   ]
  },
  {
   "cell_type": "code",
   "execution_count": null,
   "id": "a0927b95",
   "metadata": {},
   "outputs": [],
   "source": []
  },
  {
   "cell_type": "markdown",
   "id": "b602d3d4",
   "metadata": {},
   "source": [
    "# BDC"
   ]
  },
  {
   "cell_type": "markdown",
   "id": "476c61fb",
   "metadata": {},
   "source": [
    "### Loading model"
   ]
  },
  {
   "cell_type": "code",
   "execution_count": null,
   "id": "209c2907",
   "metadata": {},
   "outputs": [],
   "source": [
    "Length = 3000\n",
    "OrigDim = 1\n",
    "NumLayers = 2\n",
    "EmbedDim = 64\n",
    "NumHead = 1\n",
    "DimFC = 200\n",
    "\n",
    "InpLayer = Input((Length, 1))\n",
    "InpMask  = Input((Length, 1))\n",
    "\n",
    "EmbedOut = BDCEncoder(num_layers = NumLayers, d_model = EmbedDim, num_heads = NumHead, dff = DimFC, t_len=Length)(InpLayer, True, InpMask)\n",
    "\n",
    "Projection = Conv1D(filters=OrigDim, kernel_size=11, strides=1, padding='same', dilation_rate=1)(EmbedOut)\n",
    "\n",
    "BDCModel = Model([InpLayer,InpMask ], Projection)\n",
    "BDCModel.compile(loss='mse', optimizer = 'adam')\n",
    "BDCModel.load_weights(model_path+'BDC.hdf5')"
   ]
  },
  {
   "cell_type": "markdown",
   "id": "33988156",
   "metadata": {},
   "source": [
    "### Generating cleansed data"
   ]
  },
  {
   "cell_type": "code",
   "execution_count": null,
   "id": "1e05fea7",
   "metadata": {},
   "outputs": [],
   "source": [
    "# input shape 변경 - (length, time, data_dim=1)의 shape\n",
    "abp_resh = np.reshape(abp_input, (abp_input.shape[0],-1,1))\n",
    "\n",
    "# 초기 25초만 observed(1), 이후는 missing(0) 가정\n",
    "mask = np.zeros_like(abp_resh)\n",
    "mask[:,:2500,:] = np.ones_like(abp_resh[:,:2500,:])\n",
    "\n",
    "# batch 단위로 prediction\n",
    "for n in range(abp_resh.shape[0]//batch):\n",
    "    \n",
    "    # 0~30초의 ABP와 mask를 입력으로 0~30초 ABP outcome\n",
    "    outcome = BDCModel.predict([abp_resh[batch*n:batch*(n+1),:3000,:], mask[batch*n:batch*(n+1),:3000,:]])\n",
    "    \n",
    "    # ABP input의 25~30초를 outcome의 25~30초로 대체\n",
    "    x = np.concatenate((abp_resh[batch*n:batch*(n+1),:2500,:], outcome[:,-500:,:]), axis=1)\n",
    "    \n",
    "    # outcome으로 대체된 시간대의 mask는 observed(1)로 변경\n",
    "    m = np.concatenate((mask[batch*n:batch*(n+1),:2500,:], np.ones_like(outcome[:,-500:,:])), axis=1)\n",
    "    \n",
    "    if include_init25s == True:\n",
    "        # ABP input의 처음 25초 포함\n",
    "        outsig_entire_time = outcome.copy()\n",
    "    else:\n",
    "        # ABP input의 처음 25초 제외\n",
    "        outsig_entire_time = outcome[:,-500:,:].copy()\n",
    "    \n",
    "    # Sliding prediction, ABP input 5초씩 새로 결합하여 prediction\n",
    "    for i in range(1,(abp_resh.shape[1]-2500)//500):\n",
    "        \n",
    "        # x 후반 25초에 ABP input 5초를 새로 결합, mask도 같은 방식으로 결합\n",
    "        x_h = np.concatenate((x[:,500:,:],abp_resh[batch*n:batch*(n+1),3000+500*(i-1):3000+500*i,:]), axis=1)\n",
    "        m_h = np.concatenate((m[:,500:,:],mask[batch*n:batch*(n+1),3000+500*(i-1):3000+500*i,:]), axis=1)\n",
    "        \n",
    "        # 만약 nan이 있다면 0으로 대체\n",
    "        if np.sum(np.isnan(x_h)) > 0:\n",
    "            x_h = np.where(np.isnan(x_h), 0.0, x_h)\n",
    "        \n",
    "        # x_h와 m_h를 입력으로 ABP outcome\n",
    "        outcome = BDCModel.predict([x_h, m_h])\n",
    "        \n",
    "        # x_h의 후반 5초를 outcome의 후반 5초로 대체\n",
    "        x = np.concatenate((x_h[:,:2500,:], outcome[:,-500:,:]), axis=1)\n",
    "        \n",
    "        # outcome으로 대체된 시간대의 mask는 observed(1)로 변경\n",
    "        m = np.concatenate((m_h[:,:2500,:], np.ones_like(outcome[:,-500:,:])), axis=1)\n",
    "        \n",
    "        # 새로운 outcome의 후반 5초를 계속해서 결합\n",
    "        outsig_entire_time = np.concatenate((outsig_entire_time, outcome[:,-500:,:]), axis=1)\n",
    "    \n",
    "    # batch 단위로 reshape 하여 결합\n",
    "    if n == 0:\n",
    "        outsig_entire_data_BDC = np.reshape(outsig_entire_time, (outsig_entire_time.shape[0],-1))\n",
    "    else:\n",
    "        outsig_entire_data_BDC = np.concatenate((outsig_entire_data_BDC, \n",
    "                                                 np.reshape(outsig_entire_time, (outsig_entire_time.shape[0],-1))), \n",
    "                                                axis=0)\n",
    "\n",
    "    \n",
    "    print(f'{outsig_entire_data_BDC.shape[0]} / {abp_input.shape[0]}')\n",
    "    clear_output(wait=True)\n",
    "print(f'{outsig_entire_data_BDC.shape[0]} / {abp_input.shape[0]} -- BDC prediction complete')"
   ]
  },
  {
   "cell_type": "code",
   "execution_count": null,
   "id": "f1a423f6",
   "metadata": {},
   "outputs": [],
   "source": []
  },
  {
   "cell_type": "markdown",
   "id": "f5979fc8",
   "metadata": {},
   "source": [
    "# SupNotMIWAE"
   ]
  },
  {
   "cell_type": "markdown",
   "id": "e2da1fa5",
   "metadata": {},
   "source": [
    "### Loading model"
   ]
  },
  {
   "cell_type": "code",
   "execution_count": null,
   "id": "e56a7d6a",
   "metadata": {},
   "outputs": [],
   "source": [
    "Length = 60\n",
    "OrigDim = 50\n",
    "InpLayer = tf.keras.layers.Input((Length, OrigDim))\n",
    "InpMask  = tf.keras.layers.Input((Length, OrigDim))\n",
    "ImputeOut = SupNotMIWAE(n_train_latents=10, n_train_samples=1)([InpLayer, InpMask])\n",
    "\n",
    "SNMModel = Model([InpLayer,InpMask ], ImputeOut)\n",
    "SNMModel.compile(loss='mse', optimizer='adam')\n",
    "SNMModel.load_weights(model_path+'SupNotMIWAE.hdf5')"
   ]
  },
  {
   "cell_type": "markdown",
   "id": "40272e61",
   "metadata": {},
   "source": [
    "### Generating cleansed data"
   ]
  },
  {
   "cell_type": "code",
   "execution_count": null,
   "id": "faaa8fad",
   "metadata": {},
   "outputs": [],
   "source": [
    "# input shape 변경 - (length, time, data_dim=50)의 shape\n",
    "abp_fr = tf.signal.frame(abp_input.astype('float32'), 50, 50).numpy()\n",
    "\n",
    "# 초기 25초만 observed(1), 이후는 missing(0) 가정\n",
    "mask = np.zeros_like(abp_fr)\n",
    "mask[:,:50,:] = np.ones_like(abp_fr[:,:50,:])\n",
    "\n",
    "# batch 단위로 prediction\n",
    "for n in range(abp_fr.shape[0]//batch):\n",
    "    \n",
    "    # 0~30초의 ABP와 mask를 입력으로 0~30초 ABP outcome\n",
    "    outcome = SNMModel.predict([abp_fr[batch*n:batch*(n+1),:60,:], mask[batch*n:batch*(n+1),:60,:]])\n",
    "    \n",
    "    # ABP input의 25~30초를 outcome의 25~30초로 대체\n",
    "    x = np.concatenate((abp_fr[batch*n:batch*(n+1),:50,:], outcome[:,-10:,:]), axis=1)\n",
    "    \n",
    "    # outcome으로 대체된 시간대의 mask는 observed(1)로 변경\n",
    "    m = np.concatenate((mask[batch*n:batch*(n+1),:50,:], np.ones_like(outcome[:,-10:,:])), axis=1)\n",
    "    \n",
    "    if include_init25s == True:\n",
    "        # ABP input의 처음 25초 포함\n",
    "        outsig_entire_time = outcome.copy()\n",
    "    else:\n",
    "        # ABP input의 처음 25초 제외\n",
    "        outsig_entire_time = outcome[:,-10:,:].copy()\n",
    "    \n",
    "    # Sliding prediction, ABP input 5초씩 새로 결합하여 prediction\n",
    "    for i in range(1,(abp_fr.shape[1]-50)//10):\n",
    "        \n",
    "        # x 후반 25초에 ABP input 5초를 새로 결합, mask도 같은 방식으로 결합\n",
    "        x_h = np.concatenate((x[:,10:,:],abp_fr[batch*n:batch*(n+1),60+10*(i-1):60+10*i,:]), axis=1)\n",
    "        m_h = np.concatenate((m[:,10:,:],mask[batch*n:batch*(n+1),60+10*(i-1):60+10*i,:]), axis=1)\n",
    "        \n",
    "        # 만약 nan이 있다면 0으로 대체\n",
    "        if np.sum(np.isnan(x_h)) > 0:\n",
    "            x_h = np.where(np.isnan(x_h), 0.0, x_h)\n",
    "        \n",
    "        # x_h와 m_h를 입력으로 ABP outcome\n",
    "        outcome = SNMModel.predict([x_h, m_h])\n",
    "        \n",
    "        # x_h의 후반 5초를 outcome의 후반 5초로 대체\n",
    "        x = np.concatenate((x_h[:,:50,:], outcome[:,-10:,:]), axis=1)\n",
    "        \n",
    "        # outcome으로 대체된 시간대의 mask는 observed(1)로 변경\n",
    "        m = np.concatenate((m_h[:,:50,:], np.ones_like(outcome[:,-10:,:])), axis=1)\n",
    "        \n",
    "        # 새로운 outcome의 후반 5초를 계속해서 결합\n",
    "        outsig_entire_time = np.concatenate((outsig_entire_time, outcome[:,-10:,:]), axis=1)\n",
    "    \n",
    "    # batch 단위로 reshape 하여 결합\n",
    "    if n == 0:\n",
    "        outsig_entire_data_SNM = np.reshape(outsig_entire_time, (outsig_entire_time.shape[0],-1))\n",
    "    else:\n",
    "        outsig_entire_data_SNM = np.concatenate((outsig_entire_data_SNM, \n",
    "                                                 np.reshape(outsig_entire_time, (outsig_entire_time.shape[0],-1))), \n",
    "                                                axis=0)\n",
    "\n",
    "    \n",
    "    print(f'{outsig_entire_data_SNM.shape[0]} / {abp_input.shape[0]}')\n",
    "    clear_output(wait=True)\n",
    "print(f'{outsig_entire_data_SNM.shape[0]} / {abp_input.shape[0]} -- SNM prediction complete')"
   ]
  },
  {
   "cell_type": "code",
   "execution_count": null,
   "id": "4896b83c",
   "metadata": {},
   "outputs": [],
   "source": []
  }
 ],
 "metadata": {
  "kernelspec": {
   "display_name": "Python 3 (ipykernel)",
   "language": "python",
   "name": "python3"
  },
  "language_info": {
   "codemirror_mode": {
    "name": "ipython",
    "version": 3
   },
   "file_extension": ".py",
   "mimetype": "text/x-python",
   "name": "python",
   "nbconvert_exporter": "python",
   "pygments_lexer": "ipython3",
   "version": "3.8.13"
  }
 },
 "nbformat": 4,
 "nbformat_minor": 5
}
